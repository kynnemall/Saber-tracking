{
 "cells": [
  {
   "cell_type": "markdown",
   "id": "86637f20",
   "metadata": {},
   "source": [
    "# Centroid filtering"
   ]
  },
  {
   "cell_type": "code",
   "execution_count": null,
   "id": "18fc9001",
   "metadata": {},
   "outputs": [],
   "source": [
    "import pandas as pd\n",
    "import plotly.express as px\n",
    "from sklearn.cluster import DBSCAN\n",
    "pd.options.mode.chained_assignment = None  # default='warn'\n",
    "\n",
    "df = pd.read_parquet(\"test_video_tracking_data.parquet\")"
   ]
  },
  {
   "cell_type": "code",
   "execution_count": null,
   "id": "d2097680",
   "metadata": {},
   "outputs": [],
   "source": [
    "fig = px.scatter(df.query(\"frame < 1\"), x=\"centroid_x\", y=\"centroid_y\", color=\"frame\")\n",
    "fig.update_yaxes(autorange=\"reversed\")\n",
    "fig.show()"
   ]
  },
  {
   "cell_type": "code",
   "execution_count": null,
   "id": "1e19e3ae",
   "metadata": {},
   "outputs": [],
   "source": [
    "sub = df.query(\"frame < 1000\")\n",
    "\n",
    "db = DBSCAN(eps=5, min_samples=2, metric=\"manhattan\")\n",
    "db.fit(sub[[\"centroid_x\", \"centroid_y\"]])\n",
    "sub[\"labels\"] = db.labels_\n",
    "\n",
    "sub = sub.query(\"labels != -1\")\n",
    "fig = px.scatter(sub, x=\"centroid_x\", y=\"centroid_y\", color=\"labels\")\n",
    "fig.update_yaxes(autorange=\"reversed\")\n",
    "fig.show()"
   ]
  },
  {
   "cell_type": "code",
   "execution_count": null,
   "id": "a9fb9d74",
   "metadata": {},
   "outputs": [],
   "source": [
    "def test(dist=\"manhattan\"):\n",
    "    sub = df.query(\"frame == 0\")\n",
    "    db = DBSCAN(eps=5, min_samples=2, metric=dist)\n",
    "    db.fit(sub[[\"centroid_x\", \"centroid_y\"]])\n",
    "    sub[\"labels\"] = db.labels_\n",
    "    \n",
    "%timeit test()"
   ]
  },
  {
   "cell_type": "code",
   "execution_count": null,
   "id": "00b78ec6",
   "metadata": {},
   "outputs": [],
   "source": [
    "%timeit test(\"euclidean\")"
   ]
  }
 ],
 "metadata": {
  "kernelspec": {
   "display_name": "Python [conda env:root] *",
   "language": "python",
   "name": "conda-root-py"
  },
  "language_info": {
   "codemirror_mode": {
    "name": "ipython",
    "version": 3
   },
   "file_extension": ".py",
   "mimetype": "text/x-python",
   "name": "python",
   "nbconvert_exporter": "python",
   "pygments_lexer": "ipython3",
   "version": "3.8.13"
  }
 },
 "nbformat": 4,
 "nbformat_minor": 5
}
