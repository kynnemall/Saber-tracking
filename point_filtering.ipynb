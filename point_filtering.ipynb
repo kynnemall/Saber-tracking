{
 "cells": [
  {
   "cell_type": "markdown",
   "id": "86637f20",
   "metadata": {},
   "source": [
    "# Centroid filtering"
   ]
  },
  {
   "cell_type": "code",
   "execution_count": null,
   "id": "18fc9001",
   "metadata": {},
   "outputs": [],
   "source": [
    "import imageio\n",
    "import numpy as np\n",
    "import pandas as pd\n",
    "import plotly.express as px\n",
    "pd.options.mode.chained_assignment = None  # default='warn'\n",
    "\n",
    "df30 = pd.read_parquet(\"min_length_30_data.parquet\")\n",
    "print(df30.shape)\n",
    "df25 = pd.read_parquet(\"min_length_25_data.parquet\")\n",
    "print(df25.shape)"
   ]
  },
  {
   "cell_type": "code",
   "execution_count": null,
   "id": "6ee81780",
   "metadata": {},
   "outputs": [],
   "source": [
    "def load_image(idx=0):\n",
    "    # *** first and last channels were swapped when using OPENCV functions ***\n",
    "    vid = imageio.get_reader(\"test_video.mp4\",  'ffmpeg')\n",
    "    vid_iter = vid.iter_data()\n",
    "    for _ in range(idx+1):\n",
    "        image = next(vid_iter)\n",
    "    return image\n",
    "\n",
    "test_frames = (51, 56, 78, 104, 174, 454)\n",
    "frame = test_frames[-2]\n",
    "img = load_image(frame)"
   ]
  },
  {
   "cell_type": "code",
   "execution_count": null,
   "id": "b70f8ff9",
   "metadata": {},
   "outputs": [],
   "source": [
    "df30.shape, df25.shape\n",
    "# ((931536, 6), (1071578, 6))"
   ]
  },
  {
   "cell_type": "code",
   "execution_count": null,
   "id": "d2097680",
   "metadata": {},
   "outputs": [],
   "source": [
    "fig = px.imshow(img)\n",
    "fig2 = px.scatter(df30.query(f\"frame == {frame}\"), x=\"centroid_x\", y=\"centroid_y\", color=\"angle\")\n",
    "fig.add_trace(fig2.data[0])\n",
    "fig.update_yaxes(range=[720, 0])\n",
    "fig.update_xaxes(range=[0, 1280])\n",
    "fig.show()"
   ]
  },
  {
   "cell_type": "code",
   "execution_count": null,
   "id": "7672d25f",
   "metadata": {},
   "outputs": [],
   "source": [
    "fig = px.imshow(img)\n",
    "fig2 = px.scatter(df25.query(f\"frame == {frame}\"), x=\"centroid_x\", y=\"centroid_y\", color=\"angle\")\n",
    "fig.add_trace(fig2.data[0])\n",
    "fig.update_yaxes(range=[720, 0])\n",
    "fig.update_xaxes(range=[0, 1280])\n",
    "fig.show()"
   ]
  }
 ],
 "metadata": {
  "kernelspec": {
   "display_name": "Python [conda env:root] *",
   "language": "python",
   "name": "conda-root-py"
  },
  "language_info": {
   "codemirror_mode": {
    "name": "ipython",
    "version": 3
   },
   "file_extension": ".py",
   "mimetype": "text/x-python",
   "name": "python",
   "nbconvert_exporter": "python",
   "pygments_lexer": "ipython3",
   "version": "3.8.13"
  }
 },
 "nbformat": 4,
 "nbformat_minor": 5
}
