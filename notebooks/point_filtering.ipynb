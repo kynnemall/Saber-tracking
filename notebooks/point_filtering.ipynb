{
 "cells": [
  {
   "cell_type": "markdown",
   "id": "86637f20",
   "metadata": {},
   "source": [
    "# Centroid filtering"
   ]
  },
  {
   "cell_type": "code",
   "execution_count": null,
   "id": "18fc9001",
   "metadata": {},
   "outputs": [],
   "source": [
    "import h5py\n",
    "import imageio\n",
    "import numpy as np\n",
    "import pandas as pd\n",
    "import plotly.express as px\n",
    "from tqdm import tqdm\n",
    "from sklearn.metrics.pairwise import cosine_similarity\n",
    "pd.options.mode.chained_assignment = None  # default='warn'\n",
    "\n",
    "with h5py.File(\"min_length_30_data.h5\", \"r\") as hf:\n",
    "    data = hf.get(\"data\")\n",
    "    data = np.array(data)\n",
    "df = pd.DataFrame(data, columns=[\"Frame\", \"Centroid_x\", \"Centroid_y\", \n",
    "                                \"Angle\", \"Length\", \"Label\"])\n",
    "df.shape"
   ]
  },
  {
   "cell_type": "code",
   "execution_count": null,
   "id": "6ee81780",
   "metadata": {},
   "outputs": [],
   "source": [
    "def load_image(idx=0):\n",
    "    # *** first and last channels were swapped when using OPENCV functions ***\n",
    "    vid = imageio.get_reader(\"test_video.mp4\",  'ffmpeg')\n",
    "    vid_iter = vid.iter_data()\n",
    "    for _ in range(idx+1):\n",
    "        image = next(vid_iter)\n",
    "    return image\n",
    "\n",
    "test_frames = (51, 56, 78, 104, 174, 454)\n",
    "frame = test_frames[-2]\n",
    "frame = 1\n",
    "img = load_image(frame)"
   ]
  },
  {
   "cell_type": "code",
   "execution_count": null,
   "id": "d2097680",
   "metadata": {},
   "outputs": [],
   "source": [
    "fig = px.imshow(img)\n",
    "fig2 = px.scatter(df.query(f\"frame == {frame}\"), x=\"centroid_x\", y=\"centroid_y\", color=\"angle\")\n",
    "fig.add_trace(fig2.data[0])\n",
    "fig.update_yaxes(range=[720, 0])\n",
    "fig.update_xaxes(range=[0, 1280])\n",
    "fig.show()"
   ]
  },
  {
   "cell_type": "markdown",
   "id": "1c7720df",
   "metadata": {},
   "source": [
    "### Tracking method 1"
   ]
  },
  {
   "cell_type": "code",
   "execution_count": null,
   "id": "d06ea45a",
   "metadata": {},
   "outputs": [],
   "source": [
    "f0 = df.query(\"frame == 0\")\n",
    "f1 = df.query(\"frame == 1\")\n",
    "f0.sort_values(\"labels\")"
   ]
  },
  {
   "cell_type": "code",
   "execution_count": null,
   "id": "c8efb03a",
   "metadata": {},
   "outputs": [],
   "source": [
    "f1.sort_values(\"labels\")"
   ]
  },
  {
   "cell_type": "code",
   "execution_count": null,
   "id": "5470e524",
   "metadata": {},
   "outputs": [],
   "source": [
    "sim = cosine_similarity(f0.iloc[:, 2:], f1.iloc[:, 2:])\n",
    "sim, sim > 0.97"
   ]
  }
 ],
 "metadata": {
  "kernelspec": {
   "display_name": "Python [conda env:root] *",
   "language": "python",
   "name": "conda-root-py"
  },
  "language_info": {
   "codemirror_mode": {
    "name": "ipython",
    "version": 3
   },
   "file_extension": ".py",
   "mimetype": "text/x-python",
   "name": "python",
   "nbconvert_exporter": "python",
   "pygments_lexer": "ipython3",
   "version": "3.8.13"
  }
 },
 "nbformat": 4,
 "nbformat_minor": 5
}
