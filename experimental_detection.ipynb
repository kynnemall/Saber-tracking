{
 "cells": [
  {
   "cell_type": "code",
   "execution_count": null,
   "id": "34f28b94",
   "metadata": {},
   "outputs": [],
   "source": [
    "import cv2\n",
    "import imageio\n",
    "import numpy as np\n",
    "import plotly.express as px\n",
    "from skimage.morphology import skeletonize\n",
    "\n",
    "def load_image(idx=0):\n",
    "    vid = imageio.get_reader(\"Ludosport_birthday_sparring.mp4\",  'ffmpeg')\n",
    "    vid_iter = vid.iter_data()\n",
    "    for _ in range(idx+1):\n",
    "        image = next(vid_iter)\n",
    "    return image\n",
    "\n",
    "img = load_image(10)\n",
    "px.imshow(img)"
   ]
  },
  {
   "cell_type": "code",
   "execution_count": null,
   "id": "c9f71aee",
   "metadata": {},
   "outputs": [],
   "source": [
    "# load image to ensure reset when running cell\n",
    "img = load_image(100)\n",
    "\n",
    "# convert to HSV for simplicity\n",
    "blur = cv2.GaussianBlur(img, (5, 5), 0)\n",
    "m1 = blur[:, :, 1] > 200\n",
    "m2 = blur[:, :, 2] > 200\n",
    "m3 = blur[:, :, 0] > 240\n",
    "mask = (np.logical_and(m1, m2) + m3).astype(np.uint8)\n",
    "\n",
    "rho = 1                         # distance resolution in pixels of the Hough grid\n",
    "theta = np.pi / 180             # angular resolution in radians of the Hough grid\n",
    "threshold = 50                  # minimum number of votes (intersections in Hough grid cell)\n",
    "min_line_length = 50            # minimum number of pixels making up a line\n",
    "max_line_gap = 10               # maximum gap in pixels between connectable line segments\n",
    "\n",
    "# Run Hough on edge detected image\n",
    "# Output \"lines\" is an array containing endpoints of detected line segments\n",
    "lines = cv2.HoughLinesP(\n",
    "    mask, rho, theta, threshold, np.array([]),\n",
    "    min_line_length, max_line_gap\n",
    ")\n",
    "\n",
    "gray = np.zeros(img.shape[:2], np.uint8)\n",
    "if isinstance(lines, np.ndarray):\n",
    "    for line in lines:\n",
    "        for x1, y1, x2, y2 in line:\n",
    "            cv2.line(gray, (x1, y1), (x2, y2), 255, 2)\n",
    "\n",
    "contours, _ = cv2.findContours(gray, cv2.RETR_TREE, cv2.CHAIN_APPROX_SIMPLE)\n",
    "for i, contour in enumerate(contours):\n",
    "    if cv2.contourArea(contour) < 1000:\n",
    "        cv2.drawContours(img, contours, i, 255, -1)\n",
    "            \n",
    "px.imshow(img)"
   ]
  },
  {
   "cell_type": "code",
   "execution_count": null,
   "id": "d74ff926",
   "metadata": {},
   "outputs": [],
   "source": [
    "[cv2.contourArea(i) for i in contours] # contour areas"
   ]
  },
  {
   "cell_type": "code",
   "execution_count": null,
   "id": "18423aff",
   "metadata": {},
   "outputs": [],
   "source": [
    "# comb through RGB channels to find best combination\n",
    "mask = blur[:, :, 0] > 240\n",
    "px.imshow(mask)"
   ]
  }
 ],
 "metadata": {
  "kernelspec": {
   "display_name": "Python [conda env:root] *",
   "language": "python",
   "name": "conda-root-py"
  },
  "language_info": {
   "codemirror_mode": {
    "name": "ipython",
    "version": 3
   },
   "file_extension": ".py",
   "mimetype": "text/x-python",
   "name": "python",
   "nbconvert_exporter": "python",
   "pygments_lexer": "ipython3",
   "version": "3.8.13"
  }
 },
 "nbformat": 4,
 "nbformat_minor": 5
}
