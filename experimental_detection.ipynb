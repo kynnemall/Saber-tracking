{
 "cells": [
  {
   "cell_type": "code",
   "execution_count": null,
   "id": "34f28b94",
   "metadata": {},
   "outputs": [],
   "source": [
    "import cv2\n",
    "import imageio\n",
    "import numpy as np\n",
    "import plotly.express as px\n",
    "from skimage.morphology import skeletonize\n",
    "\n",
    "def load_image(idx=0):\n",
    "    vid = imageio.get_reader(\"Ludosport_birthday_sparring.mp4\",  'ffmpeg')\n",
    "    vid_iter = vid.iter_data()\n",
    "    for _ in range(idx+1):\n",
    "        image = next(vid_iter)\n",
    "    return image\n",
    "\n",
    "test_frames = (51, 56, 78, 104, 174, 454)\n",
    "img = load_image(test_frames[-1])\n",
    "\n",
    "px.imshow(img)"
   ]
  },
  {
   "cell_type": "code",
   "execution_count": null,
   "id": "c9f71aee",
   "metadata": {},
   "outputs": [],
   "source": [
    "# reload image to ensure reset when running cell\n",
    "idx = test_frames[-1]\n",
    "img = load_image(idx)\n",
    "\n",
    "# convert to HSV for simplicity\n",
    "blur = cv2.GaussianBlur(img, (3, 3), 0)\n",
    "kernel = np.array([[0, -1, 0],\n",
    "                   [-1, 5,-1],\n",
    "                   [0, -1, 0]])\n",
    "blur = cv2.filter2D(blur, ddepth=-1, kernel=kernel)\n",
    "m1 = blur[:, :, 1] > 200\n",
    "m2 = blur[:, :, 2] > 200\n",
    "m3 = blur[:, :, 0] > 240\n",
    "mask = (m1 + m2 + m3).astype(np.uint8)\n",
    "\n",
    "rho = 1                         # distance resolution in pixels of the Hough grid\n",
    "theta = np.pi / 180             # angular resolution in radians of the Hough grid\n",
    "threshold = 40                  # minimum number of votes (intersections in Hough grid cell)\n",
    "min_line_length = 25            # minimum number of pixels making up a line\n",
    "max_line_gap = 10               # maximum gap in pixels between connectable line segments\n",
    "\n",
    "# Run Hough on edge detected image\n",
    "# Output \"lines\" is an array containing endpoints of detected line segments\n",
    "lines = cv2.HoughLinesP(mask, rho, theta, threshold, np.array([]),\n",
    "                        min_line_length, max_line_gap)\n",
    "\n",
    "gray = np.zeros(img.shape[:2], np.uint8)\n",
    "if isinstance(lines, np.ndarray):\n",
    "    for line in lines:\n",
    "        for x1, y1, x2, y2 in line:\n",
    "            cv2.line(gray, (x1, y1), (x2, y2), 255, 2)\n",
    "            if 100 > length > 40:\n",
    "                x_diff = x1 - x2\n",
    "                y_diff = y1 - y2\n",
    "                centroid = (int((x1 + x2) / 2), int((y1 + y2) / 2))\n",
    "                cv2.drawMarker(img, centroid, (0, 255, 0),\n",
    "                               markerType=cv2.MARKER_CROSS, thickness=2)\n",
    "\n",
    "# contours, _ = cv2.findContours(gray, cv2.RETR_TREE, cv2.CHAIN_APPROX_SIMPLE)\n",
    "# for i, contour in enumerate(contours):\n",
    "#     if 800 > cv2.contourArea(contour) > 60:\n",
    "#         cv2.drawContours(img, contours, i, 255, -1)\n",
    "        \n",
    "px.imshow(img)"
   ]
  },
  {
   "cell_type": "markdown",
   "id": "e0b359ca",
   "metadata": {},
   "source": [
    "## Reconstruct image from SVD\n",
    "* Simple Hough line tracking can't identify blurred lines\n",
    "* Sharpening kernels have failed to "
   ]
  },
  {
   "cell_type": "code",
   "execution_count": null,
   "id": "18423aff",
   "metadata": {},
   "outputs": [],
   "source": [
    "def reconstruct(img, sv_num=200, start_idx=0, low_thresh=None, up_thresh=None):\n",
    "    img__ = img.copy()\n",
    "    img_ = cv2.cvtColor(img__, cv2.COLOR_BGR2GRAY)\n",
    "    scaled_img = (img_ - img_.mean()) / img_.std()\n",
    "    U, s, V = np.linalg.svd(scaled_img)\n",
    "    reconstruction = np.matrix(U[:, start_idx:sv_num]) * np.diag(s[start_idx:sv_num]) * np.matrix(V[start_idx:sv_num, :])\n",
    "    if low_thresh != None:\n",
    "        mask = np.logical_and(up_thresh > reconstruction, reconstruction > low_thresh)\n",
    "        mask = mask.astype(np.uint8)\n",
    "        cnts, _ = cv2.findContours(mask, cv2.RETR_TREE, cv2.CHAIN_APPROX_SIMPLE)\n",
    "        for i,c in enumerate(cnts):\n",
    "            area = cv2.contourArea(c)\n",
    "            perim = cv2.arcLength(c, True)\n",
    "            if 1200 > area > 600:# and 300 > perim > 200:\n",
    "                cv2.drawContours(img__, cnts, i, (255, 0, 0), -1)\n",
    "        fig = px.imshow(img__)\n",
    "    else:\n",
    "        fig = px.imshow(reconstruction)\n",
    "    fig.show()\n",
    "    \n",
    "index = test_frames[-1]\n",
    "img = load_image(index)\n",
    "reconstruct(img, 50, 5, 0.8, 1.5)"
   ]
  },
  {
   "cell_type": "code",
   "execution_count": null,
   "id": "079fd797",
   "metadata": {},
   "outputs": [],
   "source": [
    "px.imshow(img)"
   ]
  }
 ],
 "metadata": {
  "kernelspec": {
   "display_name": "Python [conda env:root] *",
   "language": "python",
   "name": "conda-root-py"
  },
  "language_info": {
   "codemirror_mode": {
    "name": "ipython",
    "version": 3
   },
   "file_extension": ".py",
   "mimetype": "text/x-python",
   "name": "python",
   "nbconvert_exporter": "python",
   "pygments_lexer": "ipython3",
   "version": "3.8.13"
  }
 },
 "nbformat": 4,
 "nbformat_minor": 5
}
